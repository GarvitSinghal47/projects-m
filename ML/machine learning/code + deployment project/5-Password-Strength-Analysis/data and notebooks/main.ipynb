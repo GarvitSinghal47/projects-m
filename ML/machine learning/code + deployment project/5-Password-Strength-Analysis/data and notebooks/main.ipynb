{
 "cells": [
  {
   "cell_type": "code",
   "execution_count": 1,
   "metadata": {},
   "outputs": [],
   "source": [
    "# Import the necessary Libraries\n",
    "import pandas as pd\n",
    "\n",
    "# For text feature extraction\n",
    "from sklearn.feature_extraction.text import TfidfVectorizer"
   ]
  },
  {
   "cell_type": "code",
   "execution_count": 3,
   "metadata": {},
   "outputs": [],
   "source": [
    "# To save the trained model on local storage\n",
    "import joblib\n",
    "\n",
    "# Read the File\n",
    "data = pd.read_csv('training.csv')"
   ]
  },
  {
   "cell_type": "code",
   "execution_count": null,
   "metadata": {},
   "outputs": [],
   "source": [
    "data"
   ]
  },
  {
   "cell_type": "code",
   "execution_count": null,
   "metadata": {},
   "outputs": [],
   "source": [
    "data.isnull.sum()"
   ]
  },
  {
   "cell_type": "code",
   "execution_count": null,
   "metadata": {},
   "outputs": [],
   "source": [
    "data.columns.value_counts()"
   ]
  },
  {
   "cell_type": "code",
   "execution_count": null,
   "metadata": {},
   "outputs": [],
   "source": [
    "data.isna.sum()"
   ]
  },
  {
   "cell_type": "markdown",
   "metadata": {},
   "source": [
    "# Dataset is already cleaned and preprocessed for use."
   ]
  },
  {
   "cell_type": "code",
   "execution_count": 2,
   "metadata": {},
   "outputs": [],
   "source": [
    "# For creating a pipeline\n",
    "from sklearn.pipeline import Pipeline\n",
    "\n",
    "# Classifier Model (Logistic Regression)\n",
    "from sklearn.linear_model import LogisticRegression"
   ]
  },
  {
   "cell_type": "code",
   "execution_count": 4,
   "metadata": {},
   "outputs": [],
   "source": [
    "# Features which are passwords\n",
    "features = data.values[:, 1].astype('str')\n",
    "\n",
    "# Labels which are strength of password\n",
    "labels = data.values[:, -1].astype('int')"
   ]
  },
  {
   "cell_type": "code",
   "execution_count": 10,
   "metadata": {},
   "outputs": [],
   "source": [
    "##logistic regression"
   ]
  },
  {
   "cell_type": "code",
   "execution_count": 5,
   "metadata": {},
   "outputs": [],
   "source": [
    "# Sequentially apply a list of transforms and a final estimator\n",
    "classifier_model = Pipeline([\n",
    "                ('tfidf', TfidfVectorizer(analyzer='char')),\n",
    "                ('logisticRegression',LogisticRegression(multi_class='multinomial', solver='sag')),\n",
    "])"
   ]
  },
  {
   "cell_type": "code",
   "execution_count": 6,
   "metadata": {},
   "outputs": [
    {
     "name": "stdout",
     "output_type": "stream",
     "text": [
      "Training Accuracy:  0.8194510213989618\n"
     ]
    }
   ],
   "source": [
    "# Fit the Model\n",
    "classifier_model.fit(features, labels)\n",
    "\n",
    "# Training Accuracy\n",
    "print('Training Accuracy: ',classifier_model.score(features, labels))"
   ]
  },
  {
   "cell_type": "code",
   "execution_count": 7,
   "metadata": {},
   "outputs": [
    {
     "data": {
      "text/plain": [
       "['LogisticRegression_Model.joblib']"
      ]
     },
     "execution_count": 7,
     "metadata": {},
     "output_type": "execute_result"
    }
   ],
   "source": [
    "# Save model for Logistic Regression\n",
    "joblib.dump(classifier_model, 'LogisticRegression_Model.joblib')"
   ]
  },
  {
   "cell_type": "code",
   "execution_count": null,
   "metadata": {},
   "outputs": [],
   "source": []
  },
  {
   "cell_type": "code",
   "execution_count": 11,
   "metadata": {},
   "outputs": [],
   "source": [
    "#neural network"
   ]
  },
  {
   "cell_type": "code",
   "execution_count": 13,
   "metadata": {},
   "outputs": [],
   "source": [
    "# Classifier Model (MultiLayer Perceptron)\n",
    "from sklearn.neural_network import MLPClassifier"
   ]
  },
  {
   "cell_type": "code",
   "execution_count": 14,
   "metadata": {},
   "outputs": [],
   "source": [
    "# Sequentially apply a list of transforms and a final estimator\n",
    "classifier_model = Pipeline([\n",
    "                ('tfidf', TfidfVectorizer(analyzer='char')),\n",
    "                ('mlpClassifier', MLPClassifier(solver='adam', \n",
    "                                                alpha=1e-5, \n",
    "                                                max_iter=400,\n",
    "                                                activation='logistic')),\n",
    "])"
   ]
  },
  {
   "cell_type": "code",
   "execution_count": 16,
   "metadata": {},
   "outputs": [
    {
     "name": "stdout",
     "output_type": "stream",
     "text": [
      "Training Accuracy:  0.993551181984539\n"
     ]
    }
   ],
   "source": [
    "# Fit the Model\n",
    "classifier_model.fit(features, labels)\n",
    "\n",
    "# Training Accuracy\n",
    "print('Training Accuracy: ',classifier_model.score(features, labels))"
   ]
  },
  {
   "cell_type": "code",
   "execution_count": 17,
   "metadata": {},
   "outputs": [
    {
     "data": {
      "text/plain": [
       "['NeuralNetwork_Model.joblib']"
      ]
     },
     "execution_count": 17,
     "metadata": {},
     "output_type": "execute_result"
    }
   ],
   "source": [
    "\n",
    "# Save model for Logistic Regression\n",
    "joblib.dump(classifier_model, 'NeuralNetwork_Model.joblib')"
   ]
  },
  {
   "cell_type": "code",
   "execution_count": null,
   "metadata": {},
   "outputs": [],
   "source": []
  },
  {
   "cell_type": "code",
   "execution_count": 18,
   "metadata": {},
   "outputs": [],
   "source": [
    "#random forest"
   ]
  },
  {
   "cell_type": "code",
   "execution_count": 19,
   "metadata": {},
   "outputs": [],
   "source": [
    "# Classifier Model (Naive Bayes)\n",
    "from sklearn.ensemble import RandomForestClassifier"
   ]
  },
  {
   "cell_type": "code",
   "execution_count": 20,
   "metadata": {},
   "outputs": [],
   "source": [
    "# Sequentially apply a list of transforms and a final estimator\n",
    "classifier_model = Pipeline([\n",
    "                ('tfidf', TfidfVectorizer(analyzer='char')),\n",
    "                ('randomForest',RandomForestClassifier(n_estimators=100, max_depth=50, criterion='entropy')),\n",
    "])"
   ]
  },
  {
   "cell_type": "code",
   "execution_count": 21,
   "metadata": {},
   "outputs": [
    {
     "name": "stdout",
     "output_type": "stream",
     "text": [
      "Training Accuracy:  0.9997087052321022\n"
     ]
    }
   ],
   "source": [
    "# Fit the Model\n",
    "classifier_model.fit(features, labels)\n",
    "\n",
    "# Training Accuracy\n",
    "print('Training Accuracy: ',classifier_model.score(features, labels))"
   ]
  },
  {
   "cell_type": "code",
   "execution_count": 22,
   "metadata": {},
   "outputs": [
    {
     "data": {
      "text/plain": [
       "['RandomForest_Model.joblib']"
      ]
     },
     "execution_count": 22,
     "metadata": {},
     "output_type": "execute_result"
    }
   ],
   "source": [
    "# Save model for Logistic Regression\n",
    "joblib.dump(classifier_model, 'RandomForest_Model.joblib')"
   ]
  },
  {
   "cell_type": "code",
   "execution_count": null,
   "metadata": {},
   "outputs": [],
   "source": []
  },
  {
   "cell_type": "code",
   "execution_count": 23,
   "metadata": {},
   "outputs": [],
   "source": [
    "# naive bias\n"
   ]
  },
  {
   "cell_type": "code",
   "execution_count": 24,
   "metadata": {},
   "outputs": [],
   "source": [
    "# Classifier Model (Naive Bayes)\n",
    "from sklearn.naive_bayes import BernoulliNB"
   ]
  },
  {
   "cell_type": "code",
   "execution_count": 25,
   "metadata": {},
   "outputs": [],
   "source": [
    "# Sequentially apply a list of transforms and a final estimator\n",
    "classifier_model = Pipeline([\n",
    "                ('tfidf', TfidfVectorizer(analyzer='char')),\n",
    "                ('bernoulliNB',BernoulliNB()),\n",
    "])"
   ]
  },
  {
   "cell_type": "code",
   "execution_count": 26,
   "metadata": {},
   "outputs": [
    {
     "name": "stdout",
     "output_type": "stream",
     "text": [
      "Training Accuracy:  0.8122164544198379\n"
     ]
    }
   ],
   "source": [
    "# Fit the Model\n",
    "classifier_model.fit(features, labels)\n",
    "\n",
    "# Training Accuracy\n",
    "print('Training Accuracy: ',classifier_model.score(features, labels))"
   ]
  },
  {
   "cell_type": "code",
   "execution_count": 27,
   "metadata": {},
   "outputs": [
    {
     "data": {
      "text/plain": [
       "['NaiveBayes_Model.joblib']"
      ]
     },
     "execution_count": 27,
     "metadata": {},
     "output_type": "execute_result"
    }
   ],
   "source": [
    "# Save model for Logistic Regression\n",
    "joblib.dump(classifier_model, 'NaiveBayes_Model.joblib')"
   ]
  },
  {
   "cell_type": "code",
   "execution_count": null,
   "metadata": {},
   "outputs": [],
   "source": []
  },
  {
   "cell_type": "code",
   "execution_count": 28,
   "metadata": {},
   "outputs": [],
   "source": [
    "# decision tree\n"
   ]
  },
  {
   "cell_type": "code",
   "execution_count": 33,
   "metadata": {},
   "outputs": [],
   "source": [
    "from sklearn.tree import DecisionTreeClassifier"
   ]
  },
  {
   "cell_type": "code",
   "execution_count": 34,
   "metadata": {},
   "outputs": [],
   "source": [
    "# Sequentially apply a list of transforms and a final estimator\n",
    "classifier_model = Pipeline([\n",
    "                ('tfidf', TfidfVectorizer(analyzer='char')),\n",
    "                ('decisionTree',DecisionTreeClassifier()),\n",
    "])"
   ]
  },
  {
   "cell_type": "code",
   "execution_count": 35,
   "metadata": {},
   "outputs": [
    {
     "name": "stdout",
     "output_type": "stream",
     "text": [
      "Training Accuracy:  0.9997236434253277\n"
     ]
    }
   ],
   "source": [
    "# Fit the Model\n",
    "classifier_model.fit(features, labels)\n",
    "\n",
    "# Training Accuracy\n",
    "print('Training Accuracy: ',classifier_model.score(features, labels))"
   ]
  },
  {
   "cell_type": "code",
   "execution_count": 36,
   "metadata": {},
   "outputs": [
    {
     "data": {
      "text/plain": [
       "['DecisionTree_Model.joblib']"
      ]
     },
     "execution_count": 36,
     "metadata": {},
     "output_type": "execute_result"
    }
   ],
   "source": [
    "# Save model for Logistic Regression\n",
    "joblib.dump(classifier_model, 'DecisionTree_Model.joblib')"
   ]
  },
  {
   "cell_type": "code",
   "execution_count": null,
   "metadata": {},
   "outputs": [],
   "source": []
  }
 ],
 "metadata": {
  "interpreter": {
   "hash": "7188dd03caafdf046a88f2d938180f28f22a3117af8fad5d3c1fc574facd202f"
  },
  "kernelspec": {
   "display_name": "Python 3.10.1 64-bit",
   "language": "python",
   "name": "python3"
  },
  "language_info": {
   "codemirror_mode": {
    "name": "ipython",
    "version": 3
   },
   "file_extension": ".py",
   "mimetype": "text/x-python",
   "name": "python",
   "nbconvert_exporter": "python",
   "pygments_lexer": "ipython3",
   "version": "3.10.1"
  },
  "orig_nbformat": 4
 },
 "nbformat": 4,
 "nbformat_minor": 2
}
