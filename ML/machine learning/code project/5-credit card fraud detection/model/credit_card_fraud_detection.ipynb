{
  "nbformat": 4,
  "nbformat_minor": 0,
  "metadata": {
    "colab": {
      "name": "credit card fraud detection.ipynb",
      "provenance": []
    },
    "kernelspec": {
      "name": "python3",
      "display_name": "Python 3"
    },
    "language_info": {
      "name": "python"
    }
  },
  "cells": [
    {
      "cell_type": "code",
      "execution_count": 66,
      "metadata": {
        "id": "XET-6USdTR9y"
      },
      "outputs": [],
      "source": [
        "import numpy as np\n",
        "import pandas as pd\n",
        "import sklearn\n",
        "from sklearn.model_selection import train_test_split\n",
        "from sklearn.linear_model import LogisticRegression\n",
        "from sklearn.metrics import accuracy_score"
      ]
    },
    {
      "cell_type": "code",
      "source": [
        "data=pd.read_csv('/content/creditcard.csv')"
      ],
      "metadata": {
        "id": "g-nczEXIUE5a"
      },
      "execution_count": 3,
      "outputs": []
    },
    {
      "cell_type": "code",
      "source": [
        "data\n"
      ],
      "metadata": {
        "colab": {
          "base_uri": "https://localhost:8080/",
          "height": 488
        },
        "id": "X5FYbrAEUNjH",
        "outputId": "5287f662-9393-4ad3-d1b8-f582563d0779"
      },
      "execution_count": 4,
      "outputs": [
        {
          "output_type": "execute_result",
          "data": {
            "text/plain": [
              "        Time        V1        V2        V3        V4        V5        V6  \\\n",
              "0          0 -1.359807 -0.072781  2.536347  1.378155 -0.338321  0.462388   \n",
              "1          0  1.191857  0.266151  0.166480  0.448154  0.060018 -0.082361   \n",
              "2          1 -1.358354 -1.340163  1.773209  0.379780 -0.503198  1.800499   \n",
              "3          1 -0.966272 -0.185226  1.792993 -0.863291 -0.010309  1.247203   \n",
              "4          2 -1.158233  0.877737  1.548718  0.403034 -0.407193  0.095921   \n",
              "...      ...       ...       ...       ...       ...       ...       ...   \n",
              "11954  20631  1.504204 -0.411728  0.200090 -0.778753 -0.442232 -0.119677   \n",
              "11955  20636  1.134994  0.096340  0.277921  0.319692  0.742800  1.611803   \n",
              "11956  20638 -6.305012  3.944886 -4.707362  1.539602 -3.934785 -1.730565   \n",
              "11957  20638  1.161960 -0.398297  1.123732 -0.474237 -1.226667 -0.519325   \n",
              "11958  20642  1.291096 -0.226628  0.708386 -0.719236 -0.659099 -0.273757   \n",
              "\n",
              "             V7        V8        V9  ...       V21       V22       V23  \\\n",
              "0      0.239599  0.098698  0.363787  ... -0.018307  0.277838 -0.110474   \n",
              "1     -0.078803  0.085102 -0.255425  ... -0.225775 -0.638672  0.101288   \n",
              "2      0.791461  0.247676 -1.514654  ...  0.247998  0.771679  0.909412   \n",
              "3      0.237609  0.377436 -1.387024  ... -0.108300  0.005274 -0.190321   \n",
              "4      0.592941 -0.270533  0.817739  ... -0.009431  0.798278 -0.137458   \n",
              "...         ...       ...       ...  ...       ...       ...       ...   \n",
              "11954 -0.782660 -0.165178  0.691819  ... -0.136231 -0.217274 -0.143260   \n",
              "11955 -0.458649  0.390012  1.424541  ... -0.395605 -0.743542  0.222256   \n",
              "11956 -2.104936  3.843447  0.863458  ...  0.073140 -0.039935 -0.108896   \n",
              "11957 -0.804179  0.070134  3.262926  ... -0.121191  0.097255  0.050903   \n",
              "11958 -0.612042 -0.111488  3.032258  ...       NaN       NaN       NaN   \n",
              "\n",
              "            V24       V25       V26       V27       V28  Amount  Class  \n",
              "0      0.066928  0.128539 -0.189115  0.133558 -0.021053  149.62    0.0  \n",
              "1     -0.339846  0.167170  0.125895 -0.008983  0.014724    2.69    0.0  \n",
              "2     -0.689281 -0.327642 -0.139097 -0.055353 -0.059752  378.66    0.0  \n",
              "3     -1.175575  0.647376 -0.221929  0.062723  0.061458  123.50    0.0  \n",
              "4      0.141267 -0.206010  0.502292  0.219422  0.215153   69.99    0.0  \n",
              "...         ...       ...       ...       ...       ...     ...    ...  \n",
              "11954 -1.057332  0.529188 -0.235062 -0.012089  0.000905    9.00    0.0  \n",
              "11955 -1.859104 -0.109777  0.279049  0.012398 -0.009090    0.99    0.0  \n",
              "11956  0.691434 -0.261979 -0.447540  0.212900 -0.031021   89.99    0.0  \n",
              "11957  0.330479  0.315692 -0.712765  0.073836  0.028055   11.85    0.0  \n",
              "11958       NaN       NaN       NaN       NaN       NaN     NaN    NaN  \n",
              "\n",
              "[11959 rows x 31 columns]"
            ],
            "text/html": [
              "\n",
              "  <div id=\"df-2ddc0056-903b-44cd-bfd9-c24ac3881de0\">\n",
              "    <div class=\"colab-df-container\">\n",
              "      <div>\n",
              "<style scoped>\n",
              "    .dataframe tbody tr th:only-of-type {\n",
              "        vertical-align: middle;\n",
              "    }\n",
              "\n",
              "    .dataframe tbody tr th {\n",
              "        vertical-align: top;\n",
              "    }\n",
              "\n",
              "    .dataframe thead th {\n",
              "        text-align: right;\n",
              "    }\n",
              "</style>\n",
              "<table border=\"1\" class=\"dataframe\">\n",
              "  <thead>\n",
              "    <tr style=\"text-align: right;\">\n",
              "      <th></th>\n",
              "      <th>Time</th>\n",
              "      <th>V1</th>\n",
              "      <th>V2</th>\n",
              "      <th>V3</th>\n",
              "      <th>V4</th>\n",
              "      <th>V5</th>\n",
              "      <th>V6</th>\n",
              "      <th>V7</th>\n",
              "      <th>V8</th>\n",
              "      <th>V9</th>\n",
              "      <th>...</th>\n",
              "      <th>V21</th>\n",
              "      <th>V22</th>\n",
              "      <th>V23</th>\n",
              "      <th>V24</th>\n",
              "      <th>V25</th>\n",
              "      <th>V26</th>\n",
              "      <th>V27</th>\n",
              "      <th>V28</th>\n",
              "      <th>Amount</th>\n",
              "      <th>Class</th>\n",
              "    </tr>\n",
              "  </thead>\n",
              "  <tbody>\n",
              "    <tr>\n",
              "      <th>0</th>\n",
              "      <td>0</td>\n",
              "      <td>-1.359807</td>\n",
              "      <td>-0.072781</td>\n",
              "      <td>2.536347</td>\n",
              "      <td>1.378155</td>\n",
              "      <td>-0.338321</td>\n",
              "      <td>0.462388</td>\n",
              "      <td>0.239599</td>\n",
              "      <td>0.098698</td>\n",
              "      <td>0.363787</td>\n",
              "      <td>...</td>\n",
              "      <td>-0.018307</td>\n",
              "      <td>0.277838</td>\n",
              "      <td>-0.110474</td>\n",
              "      <td>0.066928</td>\n",
              "      <td>0.128539</td>\n",
              "      <td>-0.189115</td>\n",
              "      <td>0.133558</td>\n",
              "      <td>-0.021053</td>\n",
              "      <td>149.62</td>\n",
              "      <td>0.0</td>\n",
              "    </tr>\n",
              "    <tr>\n",
              "      <th>1</th>\n",
              "      <td>0</td>\n",
              "      <td>1.191857</td>\n",
              "      <td>0.266151</td>\n",
              "      <td>0.166480</td>\n",
              "      <td>0.448154</td>\n",
              "      <td>0.060018</td>\n",
              "      <td>-0.082361</td>\n",
              "      <td>-0.078803</td>\n",
              "      <td>0.085102</td>\n",
              "      <td>-0.255425</td>\n",
              "      <td>...</td>\n",
              "      <td>-0.225775</td>\n",
              "      <td>-0.638672</td>\n",
              "      <td>0.101288</td>\n",
              "      <td>-0.339846</td>\n",
              "      <td>0.167170</td>\n",
              "      <td>0.125895</td>\n",
              "      <td>-0.008983</td>\n",
              "      <td>0.014724</td>\n",
              "      <td>2.69</td>\n",
              "      <td>0.0</td>\n",
              "    </tr>\n",
              "    <tr>\n",
              "      <th>2</th>\n",
              "      <td>1</td>\n",
              "      <td>-1.358354</td>\n",
              "      <td>-1.340163</td>\n",
              "      <td>1.773209</td>\n",
              "      <td>0.379780</td>\n",
              "      <td>-0.503198</td>\n",
              "      <td>1.800499</td>\n",
              "      <td>0.791461</td>\n",
              "      <td>0.247676</td>\n",
              "      <td>-1.514654</td>\n",
              "      <td>...</td>\n",
              "      <td>0.247998</td>\n",
              "      <td>0.771679</td>\n",
              "      <td>0.909412</td>\n",
              "      <td>-0.689281</td>\n",
              "      <td>-0.327642</td>\n",
              "      <td>-0.139097</td>\n",
              "      <td>-0.055353</td>\n",
              "      <td>-0.059752</td>\n",
              "      <td>378.66</td>\n",
              "      <td>0.0</td>\n",
              "    </tr>\n",
              "    <tr>\n",
              "      <th>3</th>\n",
              "      <td>1</td>\n",
              "      <td>-0.966272</td>\n",
              "      <td>-0.185226</td>\n",
              "      <td>1.792993</td>\n",
              "      <td>-0.863291</td>\n",
              "      <td>-0.010309</td>\n",
              "      <td>1.247203</td>\n",
              "      <td>0.237609</td>\n",
              "      <td>0.377436</td>\n",
              "      <td>-1.387024</td>\n",
              "      <td>...</td>\n",
              "      <td>-0.108300</td>\n",
              "      <td>0.005274</td>\n",
              "      <td>-0.190321</td>\n",
              "      <td>-1.175575</td>\n",
              "      <td>0.647376</td>\n",
              "      <td>-0.221929</td>\n",
              "      <td>0.062723</td>\n",
              "      <td>0.061458</td>\n",
              "      <td>123.50</td>\n",
              "      <td>0.0</td>\n",
              "    </tr>\n",
              "    <tr>\n",
              "      <th>4</th>\n",
              "      <td>2</td>\n",
              "      <td>-1.158233</td>\n",
              "      <td>0.877737</td>\n",
              "      <td>1.548718</td>\n",
              "      <td>0.403034</td>\n",
              "      <td>-0.407193</td>\n",
              "      <td>0.095921</td>\n",
              "      <td>0.592941</td>\n",
              "      <td>-0.270533</td>\n",
              "      <td>0.817739</td>\n",
              "      <td>...</td>\n",
              "      <td>-0.009431</td>\n",
              "      <td>0.798278</td>\n",
              "      <td>-0.137458</td>\n",
              "      <td>0.141267</td>\n",
              "      <td>-0.206010</td>\n",
              "      <td>0.502292</td>\n",
              "      <td>0.219422</td>\n",
              "      <td>0.215153</td>\n",
              "      <td>69.99</td>\n",
              "      <td>0.0</td>\n",
              "    </tr>\n",
              "    <tr>\n",
              "      <th>...</th>\n",
              "      <td>...</td>\n",
              "      <td>...</td>\n",
              "      <td>...</td>\n",
              "      <td>...</td>\n",
              "      <td>...</td>\n",
              "      <td>...</td>\n",
              "      <td>...</td>\n",
              "      <td>...</td>\n",
              "      <td>...</td>\n",
              "      <td>...</td>\n",
              "      <td>...</td>\n",
              "      <td>...</td>\n",
              "      <td>...</td>\n",
              "      <td>...</td>\n",
              "      <td>...</td>\n",
              "      <td>...</td>\n",
              "      <td>...</td>\n",
              "      <td>...</td>\n",
              "      <td>...</td>\n",
              "      <td>...</td>\n",
              "      <td>...</td>\n",
              "    </tr>\n",
              "    <tr>\n",
              "      <th>11954</th>\n",
              "      <td>20631</td>\n",
              "      <td>1.504204</td>\n",
              "      <td>-0.411728</td>\n",
              "      <td>0.200090</td>\n",
              "      <td>-0.778753</td>\n",
              "      <td>-0.442232</td>\n",
              "      <td>-0.119677</td>\n",
              "      <td>-0.782660</td>\n",
              "      <td>-0.165178</td>\n",
              "      <td>0.691819</td>\n",
              "      <td>...</td>\n",
              "      <td>-0.136231</td>\n",
              "      <td>-0.217274</td>\n",
              "      <td>-0.143260</td>\n",
              "      <td>-1.057332</td>\n",
              "      <td>0.529188</td>\n",
              "      <td>-0.235062</td>\n",
              "      <td>-0.012089</td>\n",
              "      <td>0.000905</td>\n",
              "      <td>9.00</td>\n",
              "      <td>0.0</td>\n",
              "    </tr>\n",
              "    <tr>\n",
              "      <th>11955</th>\n",
              "      <td>20636</td>\n",
              "      <td>1.134994</td>\n",
              "      <td>0.096340</td>\n",
              "      <td>0.277921</td>\n",
              "      <td>0.319692</td>\n",
              "      <td>0.742800</td>\n",
              "      <td>1.611803</td>\n",
              "      <td>-0.458649</td>\n",
              "      <td>0.390012</td>\n",
              "      <td>1.424541</td>\n",
              "      <td>...</td>\n",
              "      <td>-0.395605</td>\n",
              "      <td>-0.743542</td>\n",
              "      <td>0.222256</td>\n",
              "      <td>-1.859104</td>\n",
              "      <td>-0.109777</td>\n",
              "      <td>0.279049</td>\n",
              "      <td>0.012398</td>\n",
              "      <td>-0.009090</td>\n",
              "      <td>0.99</td>\n",
              "      <td>0.0</td>\n",
              "    </tr>\n",
              "    <tr>\n",
              "      <th>11956</th>\n",
              "      <td>20638</td>\n",
              "      <td>-6.305012</td>\n",
              "      <td>3.944886</td>\n",
              "      <td>-4.707362</td>\n",
              "      <td>1.539602</td>\n",
              "      <td>-3.934785</td>\n",
              "      <td>-1.730565</td>\n",
              "      <td>-2.104936</td>\n",
              "      <td>3.843447</td>\n",
              "      <td>0.863458</td>\n",
              "      <td>...</td>\n",
              "      <td>0.073140</td>\n",
              "      <td>-0.039935</td>\n",
              "      <td>-0.108896</td>\n",
              "      <td>0.691434</td>\n",
              "      <td>-0.261979</td>\n",
              "      <td>-0.447540</td>\n",
              "      <td>0.212900</td>\n",
              "      <td>-0.031021</td>\n",
              "      <td>89.99</td>\n",
              "      <td>0.0</td>\n",
              "    </tr>\n",
              "    <tr>\n",
              "      <th>11957</th>\n",
              "      <td>20638</td>\n",
              "      <td>1.161960</td>\n",
              "      <td>-0.398297</td>\n",
              "      <td>1.123732</td>\n",
              "      <td>-0.474237</td>\n",
              "      <td>-1.226667</td>\n",
              "      <td>-0.519325</td>\n",
              "      <td>-0.804179</td>\n",
              "      <td>0.070134</td>\n",
              "      <td>3.262926</td>\n",
              "      <td>...</td>\n",
              "      <td>-0.121191</td>\n",
              "      <td>0.097255</td>\n",
              "      <td>0.050903</td>\n",
              "      <td>0.330479</td>\n",
              "      <td>0.315692</td>\n",
              "      <td>-0.712765</td>\n",
              "      <td>0.073836</td>\n",
              "      <td>0.028055</td>\n",
              "      <td>11.85</td>\n",
              "      <td>0.0</td>\n",
              "    </tr>\n",
              "    <tr>\n",
              "      <th>11958</th>\n",
              "      <td>20642</td>\n",
              "      <td>1.291096</td>\n",
              "      <td>-0.226628</td>\n",
              "      <td>0.708386</td>\n",
              "      <td>-0.719236</td>\n",
              "      <td>-0.659099</td>\n",
              "      <td>-0.273757</td>\n",
              "      <td>-0.612042</td>\n",
              "      <td>-0.111488</td>\n",
              "      <td>3.032258</td>\n",
              "      <td>...</td>\n",
              "      <td>NaN</td>\n",
              "      <td>NaN</td>\n",
              "      <td>NaN</td>\n",
              "      <td>NaN</td>\n",
              "      <td>NaN</td>\n",
              "      <td>NaN</td>\n",
              "      <td>NaN</td>\n",
              "      <td>NaN</td>\n",
              "      <td>NaN</td>\n",
              "      <td>NaN</td>\n",
              "    </tr>\n",
              "  </tbody>\n",
              "</table>\n",
              "<p>11959 rows × 31 columns</p>\n",
              "</div>\n",
              "      <button class=\"colab-df-convert\" onclick=\"convertToInteractive('df-2ddc0056-903b-44cd-bfd9-c24ac3881de0')\"\n",
              "              title=\"Convert this dataframe to an interactive table.\"\n",
              "              style=\"display:none;\">\n",
              "        \n",
              "  <svg xmlns=\"http://www.w3.org/2000/svg\" height=\"24px\"viewBox=\"0 0 24 24\"\n",
              "       width=\"24px\">\n",
              "    <path d=\"M0 0h24v24H0V0z\" fill=\"none\"/>\n",
              "    <path d=\"M18.56 5.44l.94 2.06.94-2.06 2.06-.94-2.06-.94-.94-2.06-.94 2.06-2.06.94zm-11 1L8.5 8.5l.94-2.06 2.06-.94-2.06-.94L8.5 2.5l-.94 2.06-2.06.94zm10 10l.94 2.06.94-2.06 2.06-.94-2.06-.94-.94-2.06-.94 2.06-2.06.94z\"/><path d=\"M17.41 7.96l-1.37-1.37c-.4-.4-.92-.59-1.43-.59-.52 0-1.04.2-1.43.59L10.3 9.45l-7.72 7.72c-.78.78-.78 2.05 0 2.83L4 21.41c.39.39.9.59 1.41.59.51 0 1.02-.2 1.41-.59l7.78-7.78 2.81-2.81c.8-.78.8-2.07 0-2.86zM5.41 20L4 18.59l7.72-7.72 1.47 1.35L5.41 20z\"/>\n",
              "  </svg>\n",
              "      </button>\n",
              "      \n",
              "  <style>\n",
              "    .colab-df-container {\n",
              "      display:flex;\n",
              "      flex-wrap:wrap;\n",
              "      gap: 12px;\n",
              "    }\n",
              "\n",
              "    .colab-df-convert {\n",
              "      background-color: #E8F0FE;\n",
              "      border: none;\n",
              "      border-radius: 50%;\n",
              "      cursor: pointer;\n",
              "      display: none;\n",
              "      fill: #1967D2;\n",
              "      height: 32px;\n",
              "      padding: 0 0 0 0;\n",
              "      width: 32px;\n",
              "    }\n",
              "\n",
              "    .colab-df-convert:hover {\n",
              "      background-color: #E2EBFA;\n",
              "      box-shadow: 0px 1px 2px rgba(60, 64, 67, 0.3), 0px 1px 3px 1px rgba(60, 64, 67, 0.15);\n",
              "      fill: #174EA6;\n",
              "    }\n",
              "\n",
              "    [theme=dark] .colab-df-convert {\n",
              "      background-color: #3B4455;\n",
              "      fill: #D2E3FC;\n",
              "    }\n",
              "\n",
              "    [theme=dark] .colab-df-convert:hover {\n",
              "      background-color: #434B5C;\n",
              "      box-shadow: 0px 1px 3px 1px rgba(0, 0, 0, 0.15);\n",
              "      filter: drop-shadow(0px 1px 2px rgba(0, 0, 0, 0.3));\n",
              "      fill: #FFFFFF;\n",
              "    }\n",
              "  </style>\n",
              "\n",
              "      <script>\n",
              "        const buttonEl =\n",
              "          document.querySelector('#df-2ddc0056-903b-44cd-bfd9-c24ac3881de0 button.colab-df-convert');\n",
              "        buttonEl.style.display =\n",
              "          google.colab.kernel.accessAllowed ? 'block' : 'none';\n",
              "\n",
              "        async function convertToInteractive(key) {\n",
              "          const element = document.querySelector('#df-2ddc0056-903b-44cd-bfd9-c24ac3881de0');\n",
              "          const dataTable =\n",
              "            await google.colab.kernel.invokeFunction('convertToInteractive',\n",
              "                                                     [key], {});\n",
              "          if (!dataTable) return;\n",
              "\n",
              "          const docLinkHtml = 'Like what you see? Visit the ' +\n",
              "            '<a target=\"_blank\" href=https://colab.research.google.com/notebooks/data_table.ipynb>data table notebook</a>'\n",
              "            + ' to learn more about interactive tables.';\n",
              "          element.innerHTML = '';\n",
              "          dataTable['output_type'] = 'display_data';\n",
              "          await google.colab.output.renderOutput(dataTable, element);\n",
              "          const docLink = document.createElement('div');\n",
              "          docLink.innerHTML = docLinkHtml;\n",
              "          element.appendChild(docLink);\n",
              "        }\n",
              "      </script>\n",
              "    </div>\n",
              "  </div>\n",
              "  "
            ]
          },
          "metadata": {},
          "execution_count": 4
        }
      ]
    },
    {
      "cell_type": "code",
      "source": [
        "data.describe()"
      ],
      "metadata": {
        "colab": {
          "base_uri": "https://localhost:8080/",
          "height": 394
        },
        "id": "1oxQu9h-UOtm",
        "outputId": "e28dde89-762a-40e7-a5d9-51bd1a9010ef"
      },
      "execution_count": 5,
      "outputs": [
        {
          "output_type": "execute_result",
          "data": {
            "text/plain": [
              "               Time            V1            V2            V3            V4  \\\n",
              "count  11959.000000  11959.000000  11959.000000  11959.000000  11959.000000   \n",
              "mean    8009.996822     -0.216230      0.277097      0.889505      0.282606   \n",
              "std     6204.332248      1.583914      1.308884      1.331824      1.478162   \n",
              "min        0.000000    -27.670569    -34.607649    -22.804686     -4.657545   \n",
              "25%     2542.000000     -0.978944     -0.261503      0.417186     -0.622456   \n",
              "50%     6662.000000     -0.340742      0.256346      0.951223      0.213029   \n",
              "75%    12382.000000      1.161273      0.883626      1.613678      1.159141   \n",
              "max    20642.000000      1.960497      9.092123      4.101716     11.927512   \n",
              "\n",
              "                 V5            V6            V7            V8            V9  \\\n",
              "count  11959.000000  11959.000000  11959.000000  11959.000000  11959.000000   \n",
              "mean      -0.086585      0.139986     -0.121943     -0.048727      0.911579   \n",
              "std        1.191776      1.306285      1.153899      1.246823      1.192349   \n",
              "min      -32.092129    -23.496714    -26.548144    -23.632502     -7.175097   \n",
              "25%       -0.688114     -0.622521     -0.591335     -0.185243      0.196741   \n",
              "50%       -0.183847     -0.146903     -0.094876      0.013616      0.894911   \n",
              "75%        0.346298      0.508432      0.431657      0.267560      1.589120   \n",
              "max       34.099309     21.393069     34.303177      5.499963     10.392889   \n",
              "\n",
              "       ...           V21           V22           V23           V24  \\\n",
              "count  ...  11958.000000  11958.000000  11958.000000  11958.000000   \n",
              "mean   ...     -0.061474     -0.153850     -0.033709      0.017113   \n",
              "std    ...      0.918705      0.626631      0.505355      0.591394   \n",
              "min    ...    -11.468435     -8.593642    -19.254328     -2.512377   \n",
              "25%    ...     -0.268151     -0.543613     -0.171833     -0.333251   \n",
              "50%    ...     -0.130062     -0.124900     -0.044299      0.072099   \n",
              "75%    ...      0.021687      0.234029      0.075686      0.401798   \n",
              "max    ...     22.614889      4.534454     13.876221      3.200201   \n",
              "\n",
              "                V25           V26           V27           V28        Amount  \\\n",
              "count  11958.000000  11958.000000  11958.000000  11958.000000  11958.000000   \n",
              "mean       0.104794      0.062891      0.008320      0.000271     62.352617   \n",
              "std        0.429413      0.561603      0.405100      0.261230    178.247010   \n",
              "min       -4.781606     -1.338556     -7.976100     -3.575312      0.000000   \n",
              "25%       -0.144092     -0.353864     -0.080064     -0.015461      5.000000   \n",
              "50%        0.143136      0.001972     -0.003039      0.015452     15.950000   \n",
              "75%        0.380076      0.409231      0.106344      0.073171     50.000000   \n",
              "max        5.525093      3.517346      8.254376      4.860769   7712.430000   \n",
              "\n",
              "              Class  \n",
              "count  11958.000000  \n",
              "mean       0.004349  \n",
              "std        0.065803  \n",
              "min        0.000000  \n",
              "25%        0.000000  \n",
              "50%        0.000000  \n",
              "75%        0.000000  \n",
              "max        1.000000  \n",
              "\n",
              "[8 rows x 31 columns]"
            ],
            "text/html": [
              "\n",
              "  <div id=\"df-553fb23d-f1e8-4df7-beb6-f63331e57355\">\n",
              "    <div class=\"colab-df-container\">\n",
              "      <div>\n",
              "<style scoped>\n",
              "    .dataframe tbody tr th:only-of-type {\n",
              "        vertical-align: middle;\n",
              "    }\n",
              "\n",
              "    .dataframe tbody tr th {\n",
              "        vertical-align: top;\n",
              "    }\n",
              "\n",
              "    .dataframe thead th {\n",
              "        text-align: right;\n",
              "    }\n",
              "</style>\n",
              "<table border=\"1\" class=\"dataframe\">\n",
              "  <thead>\n",
              "    <tr style=\"text-align: right;\">\n",
              "      <th></th>\n",
              "      <th>Time</th>\n",
              "      <th>V1</th>\n",
              "      <th>V2</th>\n",
              "      <th>V3</th>\n",
              "      <th>V4</th>\n",
              "      <th>V5</th>\n",
              "      <th>V6</th>\n",
              "      <th>V7</th>\n",
              "      <th>V8</th>\n",
              "      <th>V9</th>\n",
              "      <th>...</th>\n",
              "      <th>V21</th>\n",
              "      <th>V22</th>\n",
              "      <th>V23</th>\n",
              "      <th>V24</th>\n",
              "      <th>V25</th>\n",
              "      <th>V26</th>\n",
              "      <th>V27</th>\n",
              "      <th>V28</th>\n",
              "      <th>Amount</th>\n",
              "      <th>Class</th>\n",
              "    </tr>\n",
              "  </thead>\n",
              "  <tbody>\n",
              "    <tr>\n",
              "      <th>count</th>\n",
              "      <td>11959.000000</td>\n",
              "      <td>11959.000000</td>\n",
              "      <td>11959.000000</td>\n",
              "      <td>11959.000000</td>\n",
              "      <td>11959.000000</td>\n",
              "      <td>11959.000000</td>\n",
              "      <td>11959.000000</td>\n",
              "      <td>11959.000000</td>\n",
              "      <td>11959.000000</td>\n",
              "      <td>11959.000000</td>\n",
              "      <td>...</td>\n",
              "      <td>11958.000000</td>\n",
              "      <td>11958.000000</td>\n",
              "      <td>11958.000000</td>\n",
              "      <td>11958.000000</td>\n",
              "      <td>11958.000000</td>\n",
              "      <td>11958.000000</td>\n",
              "      <td>11958.000000</td>\n",
              "      <td>11958.000000</td>\n",
              "      <td>11958.000000</td>\n",
              "      <td>11958.000000</td>\n",
              "    </tr>\n",
              "    <tr>\n",
              "      <th>mean</th>\n",
              "      <td>8009.996822</td>\n",
              "      <td>-0.216230</td>\n",
              "      <td>0.277097</td>\n",
              "      <td>0.889505</td>\n",
              "      <td>0.282606</td>\n",
              "      <td>-0.086585</td>\n",
              "      <td>0.139986</td>\n",
              "      <td>-0.121943</td>\n",
              "      <td>-0.048727</td>\n",
              "      <td>0.911579</td>\n",
              "      <td>...</td>\n",
              "      <td>-0.061474</td>\n",
              "      <td>-0.153850</td>\n",
              "      <td>-0.033709</td>\n",
              "      <td>0.017113</td>\n",
              "      <td>0.104794</td>\n",
              "      <td>0.062891</td>\n",
              "      <td>0.008320</td>\n",
              "      <td>0.000271</td>\n",
              "      <td>62.352617</td>\n",
              "      <td>0.004349</td>\n",
              "    </tr>\n",
              "    <tr>\n",
              "      <th>std</th>\n",
              "      <td>6204.332248</td>\n",
              "      <td>1.583914</td>\n",
              "      <td>1.308884</td>\n",
              "      <td>1.331824</td>\n",
              "      <td>1.478162</td>\n",
              "      <td>1.191776</td>\n",
              "      <td>1.306285</td>\n",
              "      <td>1.153899</td>\n",
              "      <td>1.246823</td>\n",
              "      <td>1.192349</td>\n",
              "      <td>...</td>\n",
              "      <td>0.918705</td>\n",
              "      <td>0.626631</td>\n",
              "      <td>0.505355</td>\n",
              "      <td>0.591394</td>\n",
              "      <td>0.429413</td>\n",
              "      <td>0.561603</td>\n",
              "      <td>0.405100</td>\n",
              "      <td>0.261230</td>\n",
              "      <td>178.247010</td>\n",
              "      <td>0.065803</td>\n",
              "    </tr>\n",
              "    <tr>\n",
              "      <th>min</th>\n",
              "      <td>0.000000</td>\n",
              "      <td>-27.670569</td>\n",
              "      <td>-34.607649</td>\n",
              "      <td>-22.804686</td>\n",
              "      <td>-4.657545</td>\n",
              "      <td>-32.092129</td>\n",
              "      <td>-23.496714</td>\n",
              "      <td>-26.548144</td>\n",
              "      <td>-23.632502</td>\n",
              "      <td>-7.175097</td>\n",
              "      <td>...</td>\n",
              "      <td>-11.468435</td>\n",
              "      <td>-8.593642</td>\n",
              "      <td>-19.254328</td>\n",
              "      <td>-2.512377</td>\n",
              "      <td>-4.781606</td>\n",
              "      <td>-1.338556</td>\n",
              "      <td>-7.976100</td>\n",
              "      <td>-3.575312</td>\n",
              "      <td>0.000000</td>\n",
              "      <td>0.000000</td>\n",
              "    </tr>\n",
              "    <tr>\n",
              "      <th>25%</th>\n",
              "      <td>2542.000000</td>\n",
              "      <td>-0.978944</td>\n",
              "      <td>-0.261503</td>\n",
              "      <td>0.417186</td>\n",
              "      <td>-0.622456</td>\n",
              "      <td>-0.688114</td>\n",
              "      <td>-0.622521</td>\n",
              "      <td>-0.591335</td>\n",
              "      <td>-0.185243</td>\n",
              "      <td>0.196741</td>\n",
              "      <td>...</td>\n",
              "      <td>-0.268151</td>\n",
              "      <td>-0.543613</td>\n",
              "      <td>-0.171833</td>\n",
              "      <td>-0.333251</td>\n",
              "      <td>-0.144092</td>\n",
              "      <td>-0.353864</td>\n",
              "      <td>-0.080064</td>\n",
              "      <td>-0.015461</td>\n",
              "      <td>5.000000</td>\n",
              "      <td>0.000000</td>\n",
              "    </tr>\n",
              "    <tr>\n",
              "      <th>50%</th>\n",
              "      <td>6662.000000</td>\n",
              "      <td>-0.340742</td>\n",
              "      <td>0.256346</td>\n",
              "      <td>0.951223</td>\n",
              "      <td>0.213029</td>\n",
              "      <td>-0.183847</td>\n",
              "      <td>-0.146903</td>\n",
              "      <td>-0.094876</td>\n",
              "      <td>0.013616</td>\n",
              "      <td>0.894911</td>\n",
              "      <td>...</td>\n",
              "      <td>-0.130062</td>\n",
              "      <td>-0.124900</td>\n",
              "      <td>-0.044299</td>\n",
              "      <td>0.072099</td>\n",
              "      <td>0.143136</td>\n",
              "      <td>0.001972</td>\n",
              "      <td>-0.003039</td>\n",
              "      <td>0.015452</td>\n",
              "      <td>15.950000</td>\n",
              "      <td>0.000000</td>\n",
              "    </tr>\n",
              "    <tr>\n",
              "      <th>75%</th>\n",
              "      <td>12382.000000</td>\n",
              "      <td>1.161273</td>\n",
              "      <td>0.883626</td>\n",
              "      <td>1.613678</td>\n",
              "      <td>1.159141</td>\n",
              "      <td>0.346298</td>\n",
              "      <td>0.508432</td>\n",
              "      <td>0.431657</td>\n",
              "      <td>0.267560</td>\n",
              "      <td>1.589120</td>\n",
              "      <td>...</td>\n",
              "      <td>0.021687</td>\n",
              "      <td>0.234029</td>\n",
              "      <td>0.075686</td>\n",
              "      <td>0.401798</td>\n",
              "      <td>0.380076</td>\n",
              "      <td>0.409231</td>\n",
              "      <td>0.106344</td>\n",
              "      <td>0.073171</td>\n",
              "      <td>50.000000</td>\n",
              "      <td>0.000000</td>\n",
              "    </tr>\n",
              "    <tr>\n",
              "      <th>max</th>\n",
              "      <td>20642.000000</td>\n",
              "      <td>1.960497</td>\n",
              "      <td>9.092123</td>\n",
              "      <td>4.101716</td>\n",
              "      <td>11.927512</td>\n",
              "      <td>34.099309</td>\n",
              "      <td>21.393069</td>\n",
              "      <td>34.303177</td>\n",
              "      <td>5.499963</td>\n",
              "      <td>10.392889</td>\n",
              "      <td>...</td>\n",
              "      <td>22.614889</td>\n",
              "      <td>4.534454</td>\n",
              "      <td>13.876221</td>\n",
              "      <td>3.200201</td>\n",
              "      <td>5.525093</td>\n",
              "      <td>3.517346</td>\n",
              "      <td>8.254376</td>\n",
              "      <td>4.860769</td>\n",
              "      <td>7712.430000</td>\n",
              "      <td>1.000000</td>\n",
              "    </tr>\n",
              "  </tbody>\n",
              "</table>\n",
              "<p>8 rows × 31 columns</p>\n",
              "</div>\n",
              "      <button class=\"colab-df-convert\" onclick=\"convertToInteractive('df-553fb23d-f1e8-4df7-beb6-f63331e57355')\"\n",
              "              title=\"Convert this dataframe to an interactive table.\"\n",
              "              style=\"display:none;\">\n",
              "        \n",
              "  <svg xmlns=\"http://www.w3.org/2000/svg\" height=\"24px\"viewBox=\"0 0 24 24\"\n",
              "       width=\"24px\">\n",
              "    <path d=\"M0 0h24v24H0V0z\" fill=\"none\"/>\n",
              "    <path d=\"M18.56 5.44l.94 2.06.94-2.06 2.06-.94-2.06-.94-.94-2.06-.94 2.06-2.06.94zm-11 1L8.5 8.5l.94-2.06 2.06-.94-2.06-.94L8.5 2.5l-.94 2.06-2.06.94zm10 10l.94 2.06.94-2.06 2.06-.94-2.06-.94-.94-2.06-.94 2.06-2.06.94z\"/><path d=\"M17.41 7.96l-1.37-1.37c-.4-.4-.92-.59-1.43-.59-.52 0-1.04.2-1.43.59L10.3 9.45l-7.72 7.72c-.78.78-.78 2.05 0 2.83L4 21.41c.39.39.9.59 1.41.59.51 0 1.02-.2 1.41-.59l7.78-7.78 2.81-2.81c.8-.78.8-2.07 0-2.86zM5.41 20L4 18.59l7.72-7.72 1.47 1.35L5.41 20z\"/>\n",
              "  </svg>\n",
              "      </button>\n",
              "      \n",
              "  <style>\n",
              "    .colab-df-container {\n",
              "      display:flex;\n",
              "      flex-wrap:wrap;\n",
              "      gap: 12px;\n",
              "    }\n",
              "\n",
              "    .colab-df-convert {\n",
              "      background-color: #E8F0FE;\n",
              "      border: none;\n",
              "      border-radius: 50%;\n",
              "      cursor: pointer;\n",
              "      display: none;\n",
              "      fill: #1967D2;\n",
              "      height: 32px;\n",
              "      padding: 0 0 0 0;\n",
              "      width: 32px;\n",
              "    }\n",
              "\n",
              "    .colab-df-convert:hover {\n",
              "      background-color: #E2EBFA;\n",
              "      box-shadow: 0px 1px 2px rgba(60, 64, 67, 0.3), 0px 1px 3px 1px rgba(60, 64, 67, 0.15);\n",
              "      fill: #174EA6;\n",
              "    }\n",
              "\n",
              "    [theme=dark] .colab-df-convert {\n",
              "      background-color: #3B4455;\n",
              "      fill: #D2E3FC;\n",
              "    }\n",
              "\n",
              "    [theme=dark] .colab-df-convert:hover {\n",
              "      background-color: #434B5C;\n",
              "      box-shadow: 0px 1px 3px 1px rgba(0, 0, 0, 0.15);\n",
              "      filter: drop-shadow(0px 1px 2px rgba(0, 0, 0, 0.3));\n",
              "      fill: #FFFFFF;\n",
              "    }\n",
              "  </style>\n",
              "\n",
              "      <script>\n",
              "        const buttonEl =\n",
              "          document.querySelector('#df-553fb23d-f1e8-4df7-beb6-f63331e57355 button.colab-df-convert');\n",
              "        buttonEl.style.display =\n",
              "          google.colab.kernel.accessAllowed ? 'block' : 'none';\n",
              "\n",
              "        async function convertToInteractive(key) {\n",
              "          const element = document.querySelector('#df-553fb23d-f1e8-4df7-beb6-f63331e57355');\n",
              "          const dataTable =\n",
              "            await google.colab.kernel.invokeFunction('convertToInteractive',\n",
              "                                                     [key], {});\n",
              "          if (!dataTable) return;\n",
              "\n",
              "          const docLinkHtml = 'Like what you see? Visit the ' +\n",
              "            '<a target=\"_blank\" href=https://colab.research.google.com/notebooks/data_table.ipynb>data table notebook</a>'\n",
              "            + ' to learn more about interactive tables.';\n",
              "          element.innerHTML = '';\n",
              "          dataTable['output_type'] = 'display_data';\n",
              "          await google.colab.output.renderOutput(dataTable, element);\n",
              "          const docLink = document.createElement('div');\n",
              "          docLink.innerHTML = docLinkHtml;\n",
              "          element.appendChild(docLink);\n",
              "        }\n",
              "      </script>\n",
              "    </div>\n",
              "  </div>\n",
              "  "
            ]
          },
          "metadata": {},
          "execution_count": 5
        }
      ]
    },
    {
      "cell_type": "code",
      "source": [
        "data.info()"
      ],
      "metadata": {
        "colab": {
          "base_uri": "https://localhost:8080/"
        },
        "id": "rnO69oSVUQ7m",
        "outputId": "af881b08-7ca7-46b5-debd-6a50d21c25ec"
      },
      "execution_count": 6,
      "outputs": [
        {
          "output_type": "stream",
          "name": "stdout",
          "text": [
            "<class 'pandas.core.frame.DataFrame'>\n",
            "RangeIndex: 11959 entries, 0 to 11958\n",
            "Data columns (total 31 columns):\n",
            " #   Column  Non-Null Count  Dtype  \n",
            "---  ------  --------------  -----  \n",
            " 0   Time    11959 non-null  int64  \n",
            " 1   V1      11959 non-null  float64\n",
            " 2   V2      11959 non-null  float64\n",
            " 3   V3      11959 non-null  float64\n",
            " 4   V4      11959 non-null  float64\n",
            " 5   V5      11959 non-null  float64\n",
            " 6   V6      11959 non-null  float64\n",
            " 7   V7      11959 non-null  float64\n",
            " 8   V8      11959 non-null  float64\n",
            " 9   V9      11959 non-null  float64\n",
            " 10  V10     11959 non-null  float64\n",
            " 11  V11     11959 non-null  float64\n",
            " 12  V12     11959 non-null  float64\n",
            " 13  V13     11959 non-null  float64\n",
            " 14  V14     11959 non-null  float64\n",
            " 15  V15     11959 non-null  float64\n",
            " 16  V16     11959 non-null  float64\n",
            " 17  V17     11959 non-null  float64\n",
            " 18  V18     11959 non-null  float64\n",
            " 19  V19     11959 non-null  float64\n",
            " 20  V20     11958 non-null  float64\n",
            " 21  V21     11958 non-null  float64\n",
            " 22  V22     11958 non-null  float64\n",
            " 23  V23     11958 non-null  float64\n",
            " 24  V24     11958 non-null  float64\n",
            " 25  V25     11958 non-null  float64\n",
            " 26  V26     11958 non-null  float64\n",
            " 27  V27     11958 non-null  float64\n",
            " 28  V28     11958 non-null  float64\n",
            " 29  Amount  11958 non-null  float64\n",
            " 30  Class   11958 non-null  float64\n",
            "dtypes: float64(30), int64(1)\n",
            "memory usage: 2.8 MB\n"
          ]
        }
      ]
    },
    {
      "cell_type": "code",
      "source": [
        "data=data[:-1]\n",
        "# distribution of legit transactions & fraudulent transactions\n",
        "data['Class'].value_counts()"
      ],
      "metadata": {
        "colab": {
          "base_uri": "https://localhost:8080/"
        },
        "id": "Hx2uVoMcUSqG",
        "outputId": "d9c81258-0802-47a7-b94c-4ff65a8bffb0"
      },
      "execution_count": 39,
      "outputs": [
        {
          "output_type": "execute_result",
          "data": {
            "text/plain": [
              "0.0    11887\n",
              "1.0       52\n",
              "Name: Class, dtype: int64"
            ]
          },
          "metadata": {},
          "execution_count": 39
        }
      ]
    },
    {
      "cell_type": "code",
      "source": [
        "legit = data[data.Class == 0]\n",
        "fraud = data[data.Class == 1]"
      ],
      "metadata": {
        "id": "kKKstviZYHnJ"
      },
      "execution_count": 40,
      "outputs": []
    },
    {
      "cell_type": "code",
      "source": [
        "print(legit.shape)\n",
        "print(fraud.shape)"
      ],
      "metadata": {
        "colab": {
          "base_uri": "https://localhost:8080/"
        },
        "id": "PS6ci96SYcCF",
        "outputId": "40c6e68f-29a7-49c2-dcef-e359d4048e09"
      },
      "execution_count": 41,
      "outputs": [
        {
          "output_type": "stream",
          "name": "stdout",
          "text": [
            "(11887, 31)\n",
            "(52, 31)\n"
          ]
        }
      ]
    },
    {
      "cell_type": "code",
      "source": [
        " #compare the values for both transactions\n",
        "data.groupby('Class').mean()"
      ],
      "metadata": {
        "colab": {
          "base_uri": "https://localhost:8080/",
          "height": 237
        },
        "id": "YcmhLGWkY-b5",
        "outputId": "8f04b030-1461-4983-d614-e639dcfea2a4"
      },
      "execution_count": 43,
      "outputs": [
        {
          "output_type": "execute_result",
          "data": {
            "text/plain": [
              "               Time        V1        V2        V3        V4        V5  \\\n",
              "Class                                                                   \n",
              "0.0     7973.223858 -0.201118  0.260206  0.929512  0.255956 -0.076458   \n",
              "1.0    11569.615385 -3.769104  4.258027 -8.202329  6.396396 -2.342431   \n",
              "\n",
              "             V6        V7        V8        V9  ...       V20       V21  \\\n",
              "Class                                          ...                       \n",
              "0.0    0.149365 -0.096584 -0.053687  0.926470  ...  0.021001 -0.062870   \n",
              "1.0   -1.990562 -5.740207  0.950650 -2.729769  ...  0.411236  0.305259   \n",
              "\n",
              "            V22       V23       V24       V25       V26       V27       V28  \\\n",
              "Class                                                                         \n",
              "0.0   -0.154378 -0.032482  0.019254  0.105768  0.062516  0.005259  0.000037   \n",
              "1.0   -0.021762 -0.340563 -0.406311 -0.139505  0.306967  0.692927  0.059751   \n",
              "\n",
              "          Amount  \n",
              "Class             \n",
              "0.0    62.234753  \n",
              "1.0    97.724808  \n",
              "\n",
              "[2 rows x 30 columns]"
            ],
            "text/html": [
              "\n",
              "  <div id=\"df-3f4dcddc-c7bf-4ac4-a771-38efdddf8bc5\">\n",
              "    <div class=\"colab-df-container\">\n",
              "      <div>\n",
              "<style scoped>\n",
              "    .dataframe tbody tr th:only-of-type {\n",
              "        vertical-align: middle;\n",
              "    }\n",
              "\n",
              "    .dataframe tbody tr th {\n",
              "        vertical-align: top;\n",
              "    }\n",
              "\n",
              "    .dataframe thead th {\n",
              "        text-align: right;\n",
              "    }\n",
              "</style>\n",
              "<table border=\"1\" class=\"dataframe\">\n",
              "  <thead>\n",
              "    <tr style=\"text-align: right;\">\n",
              "      <th></th>\n",
              "      <th>Time</th>\n",
              "      <th>V1</th>\n",
              "      <th>V2</th>\n",
              "      <th>V3</th>\n",
              "      <th>V4</th>\n",
              "      <th>V5</th>\n",
              "      <th>V6</th>\n",
              "      <th>V7</th>\n",
              "      <th>V8</th>\n",
              "      <th>V9</th>\n",
              "      <th>...</th>\n",
              "      <th>V20</th>\n",
              "      <th>V21</th>\n",
              "      <th>V22</th>\n",
              "      <th>V23</th>\n",
              "      <th>V24</th>\n",
              "      <th>V25</th>\n",
              "      <th>V26</th>\n",
              "      <th>V27</th>\n",
              "      <th>V28</th>\n",
              "      <th>Amount</th>\n",
              "    </tr>\n",
              "    <tr>\n",
              "      <th>Class</th>\n",
              "      <th></th>\n",
              "      <th></th>\n",
              "      <th></th>\n",
              "      <th></th>\n",
              "      <th></th>\n",
              "      <th></th>\n",
              "      <th></th>\n",
              "      <th></th>\n",
              "      <th></th>\n",
              "      <th></th>\n",
              "      <th></th>\n",
              "      <th></th>\n",
              "      <th></th>\n",
              "      <th></th>\n",
              "      <th></th>\n",
              "      <th></th>\n",
              "      <th></th>\n",
              "      <th></th>\n",
              "      <th></th>\n",
              "      <th></th>\n",
              "      <th></th>\n",
              "    </tr>\n",
              "  </thead>\n",
              "  <tbody>\n",
              "    <tr>\n",
              "      <th>0.0</th>\n",
              "      <td>7973.223858</td>\n",
              "      <td>-0.201118</td>\n",
              "      <td>0.260206</td>\n",
              "      <td>0.929512</td>\n",
              "      <td>0.255956</td>\n",
              "      <td>-0.076458</td>\n",
              "      <td>0.149365</td>\n",
              "      <td>-0.096584</td>\n",
              "      <td>-0.053687</td>\n",
              "      <td>0.926470</td>\n",
              "      <td>...</td>\n",
              "      <td>0.021001</td>\n",
              "      <td>-0.062870</td>\n",
              "      <td>-0.154378</td>\n",
              "      <td>-0.032482</td>\n",
              "      <td>0.019254</td>\n",
              "      <td>0.105768</td>\n",
              "      <td>0.062516</td>\n",
              "      <td>0.005259</td>\n",
              "      <td>0.000037</td>\n",
              "      <td>62.234753</td>\n",
              "    </tr>\n",
              "    <tr>\n",
              "      <th>1.0</th>\n",
              "      <td>11569.615385</td>\n",
              "      <td>-3.769104</td>\n",
              "      <td>4.258027</td>\n",
              "      <td>-8.202329</td>\n",
              "      <td>6.396396</td>\n",
              "      <td>-2.342431</td>\n",
              "      <td>-1.990562</td>\n",
              "      <td>-5.740207</td>\n",
              "      <td>0.950650</td>\n",
              "      <td>-2.729769</td>\n",
              "      <td>...</td>\n",
              "      <td>0.411236</td>\n",
              "      <td>0.305259</td>\n",
              "      <td>-0.021762</td>\n",
              "      <td>-0.340563</td>\n",
              "      <td>-0.406311</td>\n",
              "      <td>-0.139505</td>\n",
              "      <td>0.306967</td>\n",
              "      <td>0.692927</td>\n",
              "      <td>0.059751</td>\n",
              "      <td>97.724808</td>\n",
              "    </tr>\n",
              "  </tbody>\n",
              "</table>\n",
              "<p>2 rows × 30 columns</p>\n",
              "</div>\n",
              "      <button class=\"colab-df-convert\" onclick=\"convertToInteractive('df-3f4dcddc-c7bf-4ac4-a771-38efdddf8bc5')\"\n",
              "              title=\"Convert this dataframe to an interactive table.\"\n",
              "              style=\"display:none;\">\n",
              "        \n",
              "  <svg xmlns=\"http://www.w3.org/2000/svg\" height=\"24px\"viewBox=\"0 0 24 24\"\n",
              "       width=\"24px\">\n",
              "    <path d=\"M0 0h24v24H0V0z\" fill=\"none\"/>\n",
              "    <path d=\"M18.56 5.44l.94 2.06.94-2.06 2.06-.94-2.06-.94-.94-2.06-.94 2.06-2.06.94zm-11 1L8.5 8.5l.94-2.06 2.06-.94-2.06-.94L8.5 2.5l-.94 2.06-2.06.94zm10 10l.94 2.06.94-2.06 2.06-.94-2.06-.94-.94-2.06-.94 2.06-2.06.94z\"/><path d=\"M17.41 7.96l-1.37-1.37c-.4-.4-.92-.59-1.43-.59-.52 0-1.04.2-1.43.59L10.3 9.45l-7.72 7.72c-.78.78-.78 2.05 0 2.83L4 21.41c.39.39.9.59 1.41.59.51 0 1.02-.2 1.41-.59l7.78-7.78 2.81-2.81c.8-.78.8-2.07 0-2.86zM5.41 20L4 18.59l7.72-7.72 1.47 1.35L5.41 20z\"/>\n",
              "  </svg>\n",
              "      </button>\n",
              "      \n",
              "  <style>\n",
              "    .colab-df-container {\n",
              "      display:flex;\n",
              "      flex-wrap:wrap;\n",
              "      gap: 12px;\n",
              "    }\n",
              "\n",
              "    .colab-df-convert {\n",
              "      background-color: #E8F0FE;\n",
              "      border: none;\n",
              "      border-radius: 50%;\n",
              "      cursor: pointer;\n",
              "      display: none;\n",
              "      fill: #1967D2;\n",
              "      height: 32px;\n",
              "      padding: 0 0 0 0;\n",
              "      width: 32px;\n",
              "    }\n",
              "\n",
              "    .colab-df-convert:hover {\n",
              "      background-color: #E2EBFA;\n",
              "      box-shadow: 0px 1px 2px rgba(60, 64, 67, 0.3), 0px 1px 3px 1px rgba(60, 64, 67, 0.15);\n",
              "      fill: #174EA6;\n",
              "    }\n",
              "\n",
              "    [theme=dark] .colab-df-convert {\n",
              "      background-color: #3B4455;\n",
              "      fill: #D2E3FC;\n",
              "    }\n",
              "\n",
              "    [theme=dark] .colab-df-convert:hover {\n",
              "      background-color: #434B5C;\n",
              "      box-shadow: 0px 1px 3px 1px rgba(0, 0, 0, 0.15);\n",
              "      filter: drop-shadow(0px 1px 2px rgba(0, 0, 0, 0.3));\n",
              "      fill: #FFFFFF;\n",
              "    }\n",
              "  </style>\n",
              "\n",
              "      <script>\n",
              "        const buttonEl =\n",
              "          document.querySelector('#df-3f4dcddc-c7bf-4ac4-a771-38efdddf8bc5 button.colab-df-convert');\n",
              "        buttonEl.style.display =\n",
              "          google.colab.kernel.accessAllowed ? 'block' : 'none';\n",
              "\n",
              "        async function convertToInteractive(key) {\n",
              "          const element = document.querySelector('#df-3f4dcddc-c7bf-4ac4-a771-38efdddf8bc5');\n",
              "          const dataTable =\n",
              "            await google.colab.kernel.invokeFunction('convertToInteractive',\n",
              "                                                     [key], {});\n",
              "          if (!dataTable) return;\n",
              "\n",
              "          const docLinkHtml = 'Like what you see? Visit the ' +\n",
              "            '<a target=\"_blank\" href=https://colab.research.google.com/notebooks/data_table.ipynb>data table notebook</a>'\n",
              "            + ' to learn more about interactive tables.';\n",
              "          element.innerHTML = '';\n",
              "          dataTable['output_type'] = 'display_data';\n",
              "          await google.colab.output.renderOutput(dataTable, element);\n",
              "          const docLink = document.createElement('div');\n",
              "          docLink.innerHTML = docLinkHtml;\n",
              "          element.appendChild(docLink);\n",
              "        }\n",
              "      </script>\n",
              "    </div>\n",
              "  </div>\n",
              "  "
            ]
          },
          "metadata": {},
          "execution_count": 43
        }
      ]
    },
    {
      "cell_type": "code",
      "source": [
        "legit_sample = legit"
      ],
      "metadata": {
        "id": "uBPurUHHZHPH"
      },
      "execution_count": 74,
      "outputs": []
    },
    {
      "cell_type": "code",
      "source": [
        "new_dataset = pd.concat([legit_sample, fraud], axis=0)"
      ],
      "metadata": {
        "id": "8g2QA3AmZIZ2"
      },
      "execution_count": 75,
      "outputs": []
    },
    {
      "cell_type": "code",
      "source": [
        "X = new_dataset.drop(columns='Class', axis=1)\n",
        "Y = new_dataset['Class']"
      ],
      "metadata": {
        "id": "60Zk14zaZK0W"
      },
      "execution_count": 76,
      "outputs": []
    },
    {
      "cell_type": "code",
      "source": [
        "X_train, X_test, Y_train, Y_test = train_test_split(X, Y, test_size=0.2, stratify=Y, random_state=2)"
      ],
      "metadata": {
        "id": "lsffiwT1ZP8G"
      },
      "execution_count": 77,
      "outputs": []
    },
    {
      "cell_type": "code",
      "source": [
        "model = LogisticRegression()"
      ],
      "metadata": {
        "id": "o0Wr0lIrZS-l"
      },
      "execution_count": 78,
      "outputs": []
    },
    {
      "cell_type": "code",
      "source": [
        "# training the Logistic Regression Model with Training Data\n",
        "model.fit(X_train, Y_train)\n"
      ],
      "metadata": {
        "colab": {
          "base_uri": "https://localhost:8080/"
        },
        "id": "fxUGIPy1ZUwV",
        "outputId": "c391bc30-8d81-4345-cc1e-50278807b1bd"
      },
      "execution_count": 79,
      "outputs": [
        {
          "output_type": "stream",
          "name": "stderr",
          "text": [
            "/usr/local/lib/python3.7/dist-packages/sklearn/linear_model/_logistic.py:818: ConvergenceWarning: lbfgs failed to converge (status=1):\n",
            "STOP: TOTAL NO. of ITERATIONS REACHED LIMIT.\n",
            "\n",
            "Increase the number of iterations (max_iter) or scale the data as shown in:\n",
            "    https://scikit-learn.org/stable/modules/preprocessing.html\n",
            "Please also refer to the documentation for alternative solver options:\n",
            "    https://scikit-learn.org/stable/modules/linear_model.html#logistic-regression\n",
            "  extra_warning_msg=_LOGISTIC_SOLVER_CONVERGENCE_MSG,\n"
          ]
        },
        {
          "output_type": "execute_result",
          "data": {
            "text/plain": [
              "LogisticRegression()"
            ]
          },
          "metadata": {},
          "execution_count": 79
        }
      ]
    },
    {
      "cell_type": "code",
      "source": [
        "# accuracy on training data\n",
        "X_train_prediction = model.predict(X_train)\n",
        "training_data_accuracy = accuracy_score(X_train_prediction, Y_train)"
      ],
      "metadata": {
        "id": "nSJrF7CEZWlW"
      },
      "execution_count": 80,
      "outputs": []
    },
    {
      "cell_type": "code",
      "source": [
        "print('Accuracy on Training data : ', training_data_accuracy)"
      ],
      "metadata": {
        "colab": {
          "base_uri": "https://localhost:8080/"
        },
        "id": "yhLrGdI-ZZQ1",
        "outputId": "50040835-a68d-4dda-fd6d-4d92005455a9"
      },
      "execution_count": 81,
      "outputs": [
        {
          "output_type": "stream",
          "name": "stdout",
          "text": [
            "Accuracy on Training data :  0.9991623913726312\n"
          ]
        }
      ]
    },
    {
      "cell_type": "code",
      "source": [
        "# accuracy on test data\n",
        "X_test_prediction = model.predict(X_test)\n",
        "test_data_accuracy = accuracy_score(X_test_prediction, Y_test)"
      ],
      "metadata": {
        "id": "6Cfs399AZbdF"
      },
      "execution_count": 82,
      "outputs": []
    },
    {
      "cell_type": "code",
      "source": [
        "print('Accuracy score on Test Data : ', test_data_accuracy)"
      ],
      "metadata": {
        "colab": {
          "base_uri": "https://localhost:8080/"
        },
        "id": "lHP4iKG2Zc_1",
        "outputId": "4d44869f-a1c0-48ca-c229-74f6849c5cd0"
      },
      "execution_count": 83,
      "outputs": [
        {
          "output_type": "stream",
          "name": "stdout",
          "text": [
            "Accuracy score on Test Data :  0.9987437185929648\n"
          ]
        }
      ]
    },
    {
      "cell_type": "code",
      "source": [
        "sklearn.metrics.f1_score(X_test_prediction, Y_test)"
      ],
      "metadata": {
        "colab": {
          "base_uri": "https://localhost:8080/"
        },
        "id": "7Vgu8HNFZ6iU",
        "outputId": "16e08e97-aacc-45d8-8a79-a6155bb9ca9e"
      },
      "execution_count": 84,
      "outputs": [
        {
          "output_type": "execute_result",
          "data": {
            "text/plain": [
              "0.8235294117647058"
            ]
          },
          "metadata": {},
          "execution_count": 84
        }
      ]
    },
    {
      "cell_type": "code",
      "source": [
        ""
      ],
      "metadata": {
        "id": "daEwuk7oaGPj"
      },
      "execution_count": 84,
      "outputs": []
    },
    {
      "cell_type": "code",
      "source": [
        ""
      ],
      "metadata": {
        "id": "hoDGyA4FZesE"
      },
      "execution_count": 84,
      "outputs": []
    },
    {
      "cell_type": "code",
      "source": [
        ""
      ],
      "metadata": {
        "id": "SJR01hyyZCGG"
      },
      "execution_count": 84,
      "outputs": []
    },
    {
      "cell_type": "code",
      "source": [
        ""
      ],
      "metadata": {
        "id": "02rk17LdYFcL"
      },
      "execution_count": 84,
      "outputs": []
    },
    {
      "cell_type": "code",
      "source": [
        ""
      ],
      "metadata": {
        "id": "sABHvOUwXv-b"
      },
      "execution_count": 84,
      "outputs": []
    },
    {
      "cell_type": "code",
      "source": [
        ""
      ],
      "metadata": {
        "id": "pipysZXjXugb"
      },
      "execution_count": 84,
      "outputs": []
    },
    {
      "cell_type": "code",
      "source": [
        ""
      ],
      "metadata": {
        "id": "6Pv41YXiXtIc"
      },
      "execution_count": 84,
      "outputs": []
    },
    {
      "cell_type": "code",
      "source": [
        ""
      ],
      "metadata": {
        "id": "F8-fwDa0XXo8"
      },
      "execution_count": 84,
      "outputs": []
    },
    {
      "cell_type": "code",
      "source": [
        ""
      ],
      "metadata": {
        "id": "SLmpdRwtXVj8"
      },
      "execution_count": 84,
      "outputs": []
    },
    {
      "cell_type": "code",
      "source": [
        ""
      ],
      "metadata": {
        "id": "teesHchiXPEu"
      },
      "execution_count": 84,
      "outputs": []
    },
    {
      "cell_type": "code",
      "source": [
        ""
      ],
      "metadata": {
        "id": "vfFJMxiFWvFQ"
      },
      "execution_count": 84,
      "outputs": []
    },
    {
      "cell_type": "code",
      "source": [
        ""
      ],
      "metadata": {
        "id": "r0HOA-efWh4h"
      },
      "execution_count": 84,
      "outputs": []
    },
    {
      "cell_type": "code",
      "source": [
        ""
      ],
      "metadata": {
        "id": "OqOtWNc4Wedv"
      },
      "execution_count": 84,
      "outputs": []
    },
    {
      "cell_type": "code",
      "source": [
        ""
      ],
      "metadata": {
        "id": "BqCHVgICWbB_"
      },
      "execution_count": 84,
      "outputs": []
    },
    {
      "cell_type": "code",
      "source": [
        ""
      ],
      "metadata": {
        "id": "yd2wAfQGWZvx"
      },
      "execution_count": 84,
      "outputs": []
    },
    {
      "cell_type": "code",
      "source": [
        ""
      ],
      "metadata": {
        "id": "gwGwHlCZV-Ug"
      },
      "execution_count": 84,
      "outputs": []
    },
    {
      "cell_type": "code",
      "source": [
        ""
      ],
      "metadata": {
        "id": "J0XhMDYaV5ZB"
      },
      "execution_count": 84,
      "outputs": []
    },
    {
      "cell_type": "code",
      "source": [
        ""
      ],
      "metadata": {
        "id": "9gcFat1eVzXE"
      },
      "execution_count": 84,
      "outputs": []
    },
    {
      "cell_type": "code",
      "source": [
        ""
      ],
      "metadata": {
        "id": "J1nGQ9bNVnIB"
      },
      "execution_count": 84,
      "outputs": []
    },
    {
      "cell_type": "code",
      "source": [
        ""
      ],
      "metadata": {
        "id": "IMh79zXqVgEj"
      },
      "execution_count": 84,
      "outputs": []
    },
    {
      "cell_type": "code",
      "source": [
        ""
      ],
      "metadata": {
        "id": "RN2ejwXgVi5R"
      },
      "execution_count": 84,
      "outputs": []
    },
    {
      "cell_type": "code",
      "source": [
        ""
      ],
      "metadata": {
        "id": "5LkeMD3IVcMj"
      },
      "execution_count": 84,
      "outputs": []
    },
    {
      "cell_type": "code",
      "source": [
        ""
      ],
      "metadata": {
        "id": "wJLs7nX9VVXy"
      },
      "execution_count": 84,
      "outputs": []
    },
    {
      "cell_type": "code",
      "source": [
        ""
      ],
      "metadata": {
        "id": "VZJQe_ESVDoU"
      },
      "execution_count": 84,
      "outputs": []
    },
    {
      "cell_type": "code",
      "source": [
        ""
      ],
      "metadata": {
        "id": "V8a3MS6jU__X"
      },
      "execution_count": 84,
      "outputs": []
    },
    {
      "cell_type": "code",
      "source": [
        ""
      ],
      "metadata": {
        "id": "jrw1f6JQUwVz"
      },
      "execution_count": 84,
      "outputs": []
    },
    {
      "cell_type": "code",
      "source": [
        ""
      ],
      "metadata": {
        "id": "ELDmib7AUtGE"
      },
      "execution_count": 84,
      "outputs": []
    },
    {
      "cell_type": "code",
      "source": [
        ""
      ],
      "metadata": {
        "id": "Vy-vRn-AULV3"
      },
      "execution_count": 84,
      "outputs": []
    }
  ]
}